{
 "cells": [
  {
   "cell_type": "code",
   "execution_count": null,
   "id": "64ec896f",
   "metadata": {},
   "outputs": [],
   "source": [
    "import pdal\n",
    "import json\n",
    "import os\n",
    "from urban3d.trees import *\n",
    "from glob import glob\n",
    "# Method 3: Create a numpy array stack\n",
    "import numpy as np\n",
    "import pandas as pd\n",
    "from sklearn.cluster import KMeans\n",
    "os.environ['OMP_NUM_THREADS'] = '3'\n",
    "\n",
    "ROOT = \"../../\"\n",
    "PROJECT_NAME = \"GTA_2023/\"\n",
    "\n",
    "\n",
    "DATA = os.path.join(ROOT, 'data/')\n",
    "PROJECT_PATH = os.path.join(DATA , PROJECT_NAME)\n",
    "RAW = os.path.join(PROJECT_PATH, 'raw/')\n",
    "FILTERED = os.path.join(PROJECT_PATH, 'filtered/')\n",
    "CLASSIFIED = os.path.join(PROJECT_PATH, 'classified/')\n",
    "MERGED = os.path.join(PROJECT_PATH, 'merged/')\n",
    "MESH = os.path.join(PROJECT_PATH, 'mesh/')\n",
    "\n",
    "# INPUT FILE PATHS\n",
    "folder = os.path.join(RAW , \"LAZ/\" )\n",
    "las_name = \"ON_TRCA2023_20230511_NAD83CSRS_UTMZ17_1km_E6290_N48340_CLASS.copc.laz\"\n",
    "in_las = os.path.join(folder, las_name)\n",
    "grid_id = '_'.join(las_name.split('_')[-3:-1])"
   ]
  },
  {
   "cell_type": "markdown",
   "id": "7e38b4aa",
   "metadata": {},
   "source": [
    "## Filter Raw Point Cloud"
   ]
  },
  {
   "cell_type": "code",
   "execution_count": null,
   "id": "a0fab2ba",
   "metadata": {},
   "outputs": [
    {
     "data": {
      "text/plain": [
       "3228463"
      ]
     },
     "execution_count": 2,
     "metadata": {},
     "output_type": "execute_result"
    }
   ],
   "source": [
    "# ## Execute Tree Filtering Pipeline\n",
    "tree_pp= pdal_tree_filter(in_las, FILTERED, count_limit=800000)\n",
    "tree_pp.execute()"
   ]
  },
  {
   "cell_type": "markdown",
   "id": "0e22c721",
   "metadata": {},
   "source": [
    "## Isolate Trees + Further Filtering"
   ]
  },
  {
   "cell_type": "code",
   "execution_count": null,
   "id": "388d9266",
   "metadata": {},
   "outputs": [
    {
     "name": "stdout",
     "output_type": "stream",
     "text": [
      "*******Processing LAS/LAZ******* ../data/GTA_2023/filtered/ON_TRCA2023_20230511_NAD83CSRS_UTMZ17_1km_E6290_N48340_CLASS_filtered_1.copc.laz\n"
     ]
    },
    {
     "name": "stderr",
     "output_type": "stream",
     "text": [
      "d:\\05_Projects\\01_Active\\Toronto Digital Twin\\pipeline3d\\src\\treeiso\\treeiso.py:318: RuntimeWarning: divide by zero encountered in scalar divide\n",
      "  currentGroupRelHt = (currentGroupFt[0] - np.min(nnGroupFt[:, 0])) / currentGroupFt[1]\n",
      "d:\\05_Projects\\01_Active\\Toronto Digital Twin\\pipeline3d\\src\\treeiso\\treeiso.py:108: RuntimeWarning: invalid value encountered in scalar divide\n",
      "  intersection_area / mask2_area\n",
      "d:\\05_Projects\\01_Active\\Toronto Digital Twin\\pipeline3d\\src\\treeiso\\treeiso.py:107: RuntimeWarning: invalid value encountered in scalar divide\n",
      "  intersection_area / mask1_area,\n"
     ]
    },
    {
     "name": "stdout",
     "output_type": "stream",
     "text": [
      "*******End processing*******\n"
     ]
    },
    {
     "name": "stderr",
     "output_type": "stream",
     "text": [
      "d:\\05_Projects\\01_Active\\Toronto Digital Twin\\pipeline3d\\src\\trees.py:159: UserWarning: Pandas doesn't allow columns to be created via a new attribute name - see https://pandas.pydata.org/pandas-docs/stable/indexing.html#attribute-access\n",
      "  df.ClusterID = las.ClusterID\n",
      "c:\\Users\\USER\\anaconda3\\envs\\geo\\Lib\\site-packages\\sklearn\\cluster\\_kmeans.py:1419: UserWarning: KMeans is known to have a memory leak on Windows with MKL, when there are less chunks than available threads. You can avoid it by setting the environment variable OMP_NUM_THREADS=4.\n",
      "  warnings.warn(\n"
     ]
    },
    {
     "name": "stdout",
     "output_type": "stream",
     "text": [
      "*******Processing LAS/LAZ******* ../data/GTA_2023/filtered/ON_TRCA2023_20230511_NAD83CSRS_UTMZ17_1km_E6290_N48340_CLASS_filtered_2.copc.laz\n"
     ]
    },
    {
     "name": "stderr",
     "output_type": "stream",
     "text": [
      "d:\\05_Projects\\01_Active\\Toronto Digital Twin\\pipeline3d\\src\\treeiso\\treeiso.py:318: RuntimeWarning: divide by zero encountered in scalar divide\n",
      "  currentGroupRelHt = (currentGroupFt[0] - np.min(nnGroupFt[:, 0])) / currentGroupFt[1]\n",
      "d:\\05_Projects\\01_Active\\Toronto Digital Twin\\pipeline3d\\src\\treeiso\\treeiso.py:318: RuntimeWarning: invalid value encountered in scalar divide\n",
      "  currentGroupRelHt = (currentGroupFt[0] - np.min(nnGroupFt[:, 0])) / currentGroupFt[1]\n",
      "d:\\05_Projects\\01_Active\\Toronto Digital Twin\\pipeline3d\\src\\treeiso\\treeiso.py:108: RuntimeWarning: invalid value encountered in scalar divide\n",
      "  intersection_area / mask2_area\n",
      "d:\\05_Projects\\01_Active\\Toronto Digital Twin\\pipeline3d\\src\\treeiso\\treeiso.py:107: RuntimeWarning: invalid value encountered in scalar divide\n",
      "  intersection_area / mask1_area,\n"
     ]
    },
    {
     "name": "stdout",
     "output_type": "stream",
     "text": [
      "*******End processing*******\n"
     ]
    },
    {
     "name": "stderr",
     "output_type": "stream",
     "text": [
      "d:\\05_Projects\\01_Active\\Toronto Digital Twin\\pipeline3d\\src\\trees.py:159: UserWarning: Pandas doesn't allow columns to be created via a new attribute name - see https://pandas.pydata.org/pandas-docs/stable/indexing.html#attribute-access\n",
      "  df.ClusterID = las.ClusterID\n",
      "c:\\Users\\USER\\anaconda3\\envs\\geo\\Lib\\site-packages\\sklearn\\cluster\\_kmeans.py:1419: UserWarning: KMeans is known to have a memory leak on Windows with MKL, when there are less chunks than available threads. You can avoid it by setting the environment variable OMP_NUM_THREADS=3.\n",
      "  warnings.warn(\n"
     ]
    },
    {
     "name": "stdout",
     "output_type": "stream",
     "text": [
      "*******Processing LAS/LAZ******* ../data/GTA_2023/filtered/ON_TRCA2023_20230511_NAD83CSRS_UTMZ17_1km_E6290_N48340_CLASS_filtered_3.copc.laz\n"
     ]
    },
    {
     "name": "stderr",
     "output_type": "stream",
     "text": [
      "d:\\05_Projects\\01_Active\\Toronto Digital Twin\\pipeline3d\\src\\treeiso\\treeiso.py:318: RuntimeWarning: divide by zero encountered in scalar divide\n",
      "  currentGroupRelHt = (currentGroupFt[0] - np.min(nnGroupFt[:, 0])) / currentGroupFt[1]\n",
      "d:\\05_Projects\\01_Active\\Toronto Digital Twin\\pipeline3d\\src\\treeiso\\treeiso.py:107: RuntimeWarning: invalid value encountered in scalar divide\n",
      "  intersection_area / mask1_area,\n"
     ]
    },
    {
     "name": "stdout",
     "output_type": "stream",
     "text": [
      "*******End processing*******\n"
     ]
    },
    {
     "name": "stderr",
     "output_type": "stream",
     "text": [
      "d:\\05_Projects\\01_Active\\Toronto Digital Twin\\pipeline3d\\src\\trees.py:159: UserWarning: Pandas doesn't allow columns to be created via a new attribute name - see https://pandas.pydata.org/pandas-docs/stable/indexing.html#attribute-access\n",
      "  df.ClusterID = las.ClusterID\n",
      "c:\\Users\\USER\\anaconda3\\envs\\geo\\Lib\\site-packages\\sklearn\\cluster\\_kmeans.py:1419: UserWarning: KMeans is known to have a memory leak on Windows with MKL, when there are less chunks than available threads. You can avoid it by setting the environment variable OMP_NUM_THREADS=4.\n",
      "  warnings.warn(\n"
     ]
    },
    {
     "name": "stdout",
     "output_type": "stream",
     "text": [
      "*******Processing LAS/LAZ******* ../data/GTA_2023/filtered/ON_TRCA2023_20230511_NAD83CSRS_UTMZ17_1km_E6290_N48340_CLASS_filtered_4.copc.laz\n"
     ]
    },
    {
     "name": "stderr",
     "output_type": "stream",
     "text": [
      "d:\\05_Projects\\01_Active\\Toronto Digital Twin\\pipeline3d\\src\\treeiso\\treeiso.py:318: RuntimeWarning: divide by zero encountered in scalar divide\n",
      "  currentGroupRelHt = (currentGroupFt[0] - np.min(nnGroupFt[:, 0])) / currentGroupFt[1]\n",
      "d:\\05_Projects\\01_Active\\Toronto Digital Twin\\pipeline3d\\src\\treeiso\\treeiso.py:108: RuntimeWarning: invalid value encountered in scalar divide\n",
      "  intersection_area / mask2_area\n",
      "d:\\05_Projects\\01_Active\\Toronto Digital Twin\\pipeline3d\\src\\treeiso\\treeiso.py:107: RuntimeWarning: invalid value encountered in scalar divide\n",
      "  intersection_area / mask1_area,\n"
     ]
    },
    {
     "name": "stdout",
     "output_type": "stream",
     "text": [
      "*******End processing*******\n"
     ]
    },
    {
     "name": "stderr",
     "output_type": "stream",
     "text": [
      "d:\\05_Projects\\01_Active\\Toronto Digital Twin\\pipeline3d\\src\\trees.py:159: UserWarning: Pandas doesn't allow columns to be created via a new attribute name - see https://pandas.pydata.org/pandas-docs/stable/indexing.html#attribute-access\n",
      "  df.ClusterID = las.ClusterID\n",
      "c:\\Users\\USER\\anaconda3\\envs\\geo\\Lib\\site-packages\\sklearn\\cluster\\_kmeans.py:1419: UserWarning: KMeans is known to have a memory leak on Windows with MKL, when there are less chunks than available threads. You can avoid it by setting the environment variable OMP_NUM_THREADS=3.\n",
      "  warnings.warn(\n"
     ]
    },
    {
     "name": "stdout",
     "output_type": "stream",
     "text": [
      "*******Processing LAS/LAZ******* ../data/GTA_2023/filtered/ON_TRCA2023_20230511_NAD83CSRS_UTMZ17_1km_E6290_N48340_CLASS_filtered_5.copc.laz\n"
     ]
    },
    {
     "name": "stderr",
     "output_type": "stream",
     "text": [
      "d:\\05_Projects\\01_Active\\Toronto Digital Twin\\pipeline3d\\src\\treeiso\\treeiso.py:318: RuntimeWarning: divide by zero encountered in scalar divide\n",
      "  currentGroupRelHt = (currentGroupFt[0] - np.min(nnGroupFt[:, 0])) / currentGroupFt[1]\n",
      "d:\\05_Projects\\01_Active\\Toronto Digital Twin\\pipeline3d\\src\\treeiso\\treeiso.py:108: RuntimeWarning: invalid value encountered in scalar divide\n",
      "  intersection_area / mask2_area\n",
      "d:\\05_Projects\\01_Active\\Toronto Digital Twin\\pipeline3d\\src\\treeiso\\treeiso.py:107: RuntimeWarning: invalid value encountered in scalar divide\n",
      "  intersection_area / mask1_area,\n"
     ]
    },
    {
     "name": "stdout",
     "output_type": "stream",
     "text": [
      "*******End processing*******\n"
     ]
    },
    {
     "name": "stderr",
     "output_type": "stream",
     "text": [
      "d:\\05_Projects\\01_Active\\Toronto Digital Twin\\pipeline3d\\src\\trees.py:159: UserWarning: Pandas doesn't allow columns to be created via a new attribute name - see https://pandas.pydata.org/pandas-docs/stable/indexing.html#attribute-access\n",
      "  df.ClusterID = las.ClusterID\n",
      "c:\\Users\\USER\\anaconda3\\envs\\geo\\Lib\\site-packages\\sklearn\\cluster\\_kmeans.py:1419: UserWarning: KMeans is known to have a memory leak on Windows with MKL, when there are less chunks than available threads. You can avoid it by setting the environment variable OMP_NUM_THREADS=4.\n",
      "  warnings.warn(\n"
     ]
    }
   ],
   "source": [
    "## Filter out Cluster ID with Trees\n",
    "filtered_las = [os.path.join(FILTERED,file) for file in os.listdir(FILTERED) if grid_id in file]\n",
    "classified_las = [os.path.join(CLASSIFIED,file.replace('.copc.laz', '_treeiso.copc.laz')) for file in os.listdir(FILTERED) if grid_id in file]\n",
    "laspy.read(in_las).header.parse_crs()\n",
    "\n",
    "## FILTERING BY CLUSTER ID AND HEIGHT\n",
    "for in_las, out_las in zip(filtered_las, classified_las):\n",
    "    las = laspy.read(in_las)\n",
    "    dimensions = ['X', 'Y', 'Z', 'ClusterID','intensity', 'number_of_returns', 'Curvature', ]\n",
    "\n",
    "    # ## Filter by Cluster ID\n",
    "    df = build_las_df(las, dimensions, rescale=True)\n",
    "    cluster_id = select_cluster(df)\n",
    "    las = las[las.ClusterID == cluster_id]\n",
    "\n",
    "    \n",
    "    # ## Filter By Height Above Ground\n",
    "    hag = las.X\n",
    "    mean_hag = np.mean(hag)\n",
    "    std_hag =  np.std(hag)\n",
    "\n",
    "    hag_mask = hag < (std_hag * 3)\n",
    "    las = las[hag_mask]\n",
    "\n",
    "    # ## Write LAS\n",
    "    las.write(in_las)\n",
    "\n",
    "\n",
    "# ## TREE ISOLATION AND FINAL K MEANS FILTER\n",
    "for in_las, out_las in zip(filtered_las, classified_las):\n",
    "\n",
    "    # ## Isolate Trees\n",
    "    process_las_file(in_las, out_las, if_isolate_outlier=False)\n",
    "\n",
    "    ## Second Kmeans Pass to filter out Trees from Tree ISO Segments\n",
    "    las = laspy.read(out_las)\n",
    "    dimensions = ['X', 'Y', 'Z', 'final_segs','intensity', 'number_of_returns', 'Curvature',  ]\n",
    "    df = build_las_df(las, dimensions, rescale=True)\n",
    "    df['final_segs'] = las.final_segs\n",
    "    df_mean = df.groupby('final_segs').mean().reset_index()\n",
    "    df_mean['count'] = df.groupby('final_segs').X.count()\n",
    "\n",
    "    kmeans = KMeans(n_clusters= 2)\n",
    "    df_mean['ClusterID'] = kmeans.fit_predict(df_mean[['Curvature', 'intensity']])\n",
    "    df_mean = df_mean[df_mean.ClusterID == select_cluster(df_mean)]\n",
    "\n",
    "    q_lower =  df_mean['count'].quantile(q=0.3)\n",
    "    q_upper =  df_mean['count'].quantile(q=0.99)\n",
    "    df_mean = df_mean[(df_mean['count'] > q_lower) & (df_mean['count'] < q_upper)] \n",
    "\n",
    "    ## Out put Cleaned Las with Trees\n",
    "    las_clean = las[df.final_segs.isin(df_mean.final_segs).values]\n",
    "    las_clean.write(out_las)"
   ]
  },
  {
   "cell_type": "markdown",
   "id": "ae84b215",
   "metadata": {},
   "source": [
    "##  Merge"
   ]
  },
  {
   "cell_type": "code",
   "execution_count": 31,
   "id": "024230be",
   "metadata": {},
   "outputs": [
    {
     "data": {
      "text/plain": [
       "1138825"
      ]
     },
     "execution_count": 31,
     "metadata": {},
     "output_type": "execute_result"
    }
   ],
   "source": [
    "out_merged = os.path.join(MERGED, las_name.replace('.copc.laz', '_merged.las'))\n",
    "\n",
    "\n",
    "p = classified_las.copy()\n",
    "p.extend([{\"type\": \"filters.merge\"}, {\"type\" : \"writers.las\", \"filename\" : out_merged}])\n",
    "p = dict(pipeline = p)\n",
    "p = pdal.Pipeline(json.dumps(p))\n",
    "p.execute()\n"
   ]
  }
 ],
 "metadata": {
  "kernelspec": {
   "display_name": "geo",
   "language": "python",
   "name": "python3"
  },
  "language_info": {
   "codemirror_mode": {
    "name": "ipython",
    "version": 3
   },
   "file_extension": ".py",
   "mimetype": "text/x-python",
   "name": "python",
   "nbconvert_exporter": "python",
   "pygments_lexer": "ipython3",
   "version": "3.13.5"
  }
 },
 "nbformat": 4,
 "nbformat_minor": 5
}
